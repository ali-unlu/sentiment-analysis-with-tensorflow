{
  "nbformat": 4,
  "nbformat_minor": 0,
  "metadata": {
    "colab": {
      "name": "Sentiment Analysis with TensorFlow.ipynb",
      "provenance": [],
      "collapsed_sections": [],
      "authorship_tag": "ABX9TyNn/bO4oYGVNvxeFisr+uXb",
      "include_colab_link": true
    },
    "kernelspec": {
      "name": "python3",
      "display_name": "Python 3"
    },
    "language_info": {
      "name": "python"
    }
  },
  "cells": [
    {
      "cell_type": "markdown",
      "metadata": {
        "id": "view-in-github",
        "colab_type": "text"
      },
      "source": [
        "<a href=\"https://colab.research.google.com/github/ali-unlu/sentiment-analysis-with-tensorflow/blob/main/Sentiment_Analysis_with_TensorFlow.ipynb\" target=\"_parent\"><img src=\"https://colab.research.google.com/assets/colab-badge.svg\" alt=\"Open In Colab\"/></a>"
      ]
    },
    {
      "cell_type": "markdown",
      "source": [
        "# Introduction\n",
        "\n",
        "In this project we will create and train a neural network model to classify movie reviews taken from IMDB as either a positive review or a negative review. Essentially, we want to create and train a neural network model which, given a text review, will be able to predict if the overall sentiment of the review is more negative or more positive. We also take a quick look at the Rhyme interface. "
      ],
      "metadata": {
        "id": "vFLIdcsoFOjI"
      }
    },
    {
      "cell_type": "markdown",
      "source": [
        "# Data\n",
        "\n",
        "### The IMDB Reviews Data Set\n",
        "We will import the data that we’d be working with. This is easily accessible in Keras. Once we load the data, we can unpack it to populate the training set and the test set. Both the training and test set have 25,000 examples each.\n",
        "\n",
        "When we load this data-set, we will set number of words to 10,000. This means that only the most common 10,000 words from the bag of words will be used and the rest will be ignored."
      ],
      "metadata": {
        "id": "gB_kR-T0Fgzg"
      }
    },
    {
      "cell_type": "code",
      "source": [
        "from tensorflow.python.keras.datasets import imdb\n",
        "\n",
        "(x_train, y_train), (x_test, y_test) = imdb.load_data(num_words = 10000)"
      ],
      "metadata": {
        "id": "uZpFW3l5IEBs"
      },
      "execution_count": 39,
      "outputs": []
    },
    {
      "cell_type": "code",
      "source": [
        "# let's look at the first review\n",
        "print(x_train[0])"
      ],
      "metadata": {
        "colab": {
          "base_uri": "https://localhost:8080/"
        },
        "id": "3lSWAcoUI8go",
        "outputId": "bdc85d78-0ca1-422d-a597-42ae7f0b7fbe"
      },
      "execution_count": 19,
      "outputs": [
        {
          "output_type": "stream",
          "name": "stdout",
          "text": [
            "[1, 14, 22, 16, 43, 530, 973, 1622, 1385, 65, 458, 4468, 66, 3941, 4, 173, 36, 256, 5, 25, 100, 43, 838, 112, 50, 670, 2, 9, 35, 480, 284, 5, 150, 4, 172, 112, 167, 2, 336, 385, 39, 4, 172, 4536, 1111, 17, 546, 38, 13, 447, 4, 192, 50, 16, 6, 147, 2025, 19, 14, 22, 4, 1920, 4613, 469, 4, 22, 71, 87, 12, 16, 43, 530, 38, 76, 15, 13, 1247, 4, 22, 17, 515, 17, 12, 16, 626, 18, 2, 5, 62, 386, 12, 8, 316, 8, 106, 5, 4, 2223, 5244, 16, 480, 66, 3785, 33, 4, 130, 12, 16, 38, 619, 5, 25, 124, 51, 36, 135, 48, 25, 1415, 33, 6, 22, 12, 215, 28, 77, 52, 5, 14, 407, 16, 82, 2, 8, 4, 107, 117, 5952, 15, 256, 4, 2, 7, 3766, 5, 723, 36, 71, 43, 530, 476, 26, 400, 317, 46, 7, 4, 2, 1029, 13, 104, 88, 4, 381, 15, 297, 98, 32, 2071, 56, 26, 141, 6, 194, 7486, 18, 4, 226, 22, 21, 134, 476, 26, 480, 5, 144, 30, 5535, 18, 51, 36, 28, 224, 92, 25, 104, 4, 226, 65, 16, 38, 1334, 88, 12, 16, 283, 5, 16, 4472, 113, 103, 32, 15, 16, 5345, 19, 178, 32]\n"
          ]
        }
      ]
    },
    {
      "cell_type": "markdown",
      "source": [
        "Since this is a preprocessed data, there is no text but only numbers. It means that each words are represented with a numbers. This is a useful technique for this analysis. Keep in mind that we only include unique words, representing with a unique number. "
      ],
      "metadata": {
        "id": "TN8YwED2JFbA"
      }
    },
    {
      "cell_type": "code",
      "source": [
        "# let's look at the first outcome\n",
        "print(y_train[0])"
      ],
      "metadata": {
        "colab": {
          "base_uri": "https://localhost:8080/"
        },
        "id": "M__koTtsLCCQ",
        "outputId": "c1aaaf4f-a8a7-4225-aa2d-6cafa9e08055"
      },
      "execution_count": 20,
      "outputs": [
        {
          "output_type": "stream",
          "name": "stdout",
          "text": [
            "1\n"
          ]
        }
      ]
    },
    {
      "cell_type": "markdown",
      "source": [
        "In this data set, 0 represents negative review while 1 means positive review about the movie. For the convenience, we can create a class "
      ],
      "metadata": {
        "id": "qeDoNAfqLQf0"
      }
    },
    {
      "cell_type": "code",
      "source": [
        "class_names = ['Negative', 'Positive']"
      ],
      "metadata": {
        "id": "EtoqE9pnLm-c"
      },
      "execution_count": 42,
      "outputs": []
    },
    {
      "cell_type": "markdown",
      "source": [
        "Finally, we can access the word labels by a helper function. It will enable us to see the content of the review. For instance, we can check out what number represent 'hello' and we can see that 4822 represents 'hello'"
      ],
      "metadata": {
        "id": "E10QRtWAL7QD"
      }
    },
    {
      "cell_type": "code",
      "source": [
        "word_index = imdb.get_word_index()\n",
        "print(word_index['hello'])"
      ],
      "metadata": {
        "colab": {
          "base_uri": "https://localhost:8080/"
        },
        "id": "AXSBxkWdMHSV",
        "outputId": "3012c704-295e-4c80-c286-bb9af214ebd8"
      },
      "execution_count": 41,
      "outputs": [
        {
          "output_type": "stream",
          "name": "stdout",
          "text": [
            "4822\n"
          ]
        }
      ]
    },
    {
      "cell_type": "markdown",
      "source": [
        "# Decoding the Reviews\n",
        "\n",
        "Let’s decode our numeric representation of the examples back into text. We are still going to use just the encoded examples that we have already loaded when training our model but the decoding is just for our reference so that we can maybe read a couple of reviews and see if their labels seem to make sense for us.\n",
        "\n",
        "For the decoding, we will need to create a dictionary with key value pairs like the word index we imported in the previous task. Except this new dictionary should have the word index values as keys and keys as values.\n",
        "\n",
        "Besides, we write a small helper function to decode review from numbers to text. "
      ],
      "metadata": {
        "id": "aUx9RA2zFoo0"
      }
    },
    {
      "cell_type": "code",
      "source": [
        "reverse_word_index = dict((value, key) for key, value in word_index.items())\n",
        "\n",
        "def decode(review):\n",
        "    text = ''\n",
        "    for i in review:\n",
        "        text += reverse_word_index[i]\n",
        "        text += ' '\n",
        "    return text"
      ],
      "metadata": {
        "id": "Cqw_TkpQFrVw"
      },
      "execution_count": 43,
      "outputs": []
    },
    {
      "cell_type": "markdown",
      "source": [
        "We can now read the text in the review however, the order of the words are not in the same format as writen but we can still figure out what kind of words are used in reviews. For instance, let's check the first review again with the actual words. "
      ],
      "metadata": {
        "id": "v1vo2Er7ONd9"
      }
    },
    {
      "cell_type": "code",
      "source": [
        "decode(x_train[0])"
      ],
      "metadata": {
        "colab": {
          "base_uri": "https://localhost:8080/",
          "height": 122
        },
        "id": "Vk_G8QwfOhEC",
        "outputId": "8c62b7f9-e4e1-429c-e1fb-ff19545bc8bd"
      },
      "execution_count": 24,
      "outputs": [
        {
          "output_type": "execute_result",
          "data": {
            "application/vnd.google.colaboratory.intrinsic+json": {
              "type": "string"
            },
            "text/plain": [
              "\"the as you with out themselves powerful lets loves their becomes reaching had journalist of lot from anyone to have after out atmosphere never more room and it so heart shows to years of every never going and help moments or of every chest visual movie except her was several of enough more with is now current film as you of mine potentially unfortunately of you than him that with out themselves her get for was camp of you movie sometimes movie that with scary but and to story wonderful that in seeing in character to of 70s musicians with heart had shadows they of here that with her serious to have does when from why what have critics they is you that isn't one will very to as itself with other and in of seen over landed for anyone of and br show's to whether from than out themselves history he name half some br of and odd was two most of mean for 1 any an boat she he should is thought frog but of script you not while history he heart to real at barrel but when from one bit then have two of script their with her nobody most that with wasn't to with armed acting watch an for with heartfelt film want an \""
            ]
          },
          "metadata": {},
          "execution_count": 24
        }
      ]
    },
    {
      "cell_type": "markdown",
      "source": [
        "On the other hand, we know that each review has different length. We will use a method to balance the review length later but to examplified this issue, we can write a small helper function to compare the first two reviews of train and text data. "
      ],
      "metadata": {
        "id": "glvFTPvFPbL5"
      }
    },
    {
      "cell_type": "code",
      "source": [
        "def show_lengths():\n",
        "    print('Length of 1st training example: ', len(x_train[0]))\n",
        "    print('Length of 2nd training example: ',  len(x_train[1]))\n",
        "    print('Length of 1st test example: ', len(x_test[0]))\n",
        "    print('Length of 2nd test example: ',  len(x_test[1]))\n",
        "    \n",
        "show_lengths()"
      ],
      "metadata": {
        "colab": {
          "base_uri": "https://localhost:8080/"
        },
        "id": "THBYj4iiPztU",
        "outputId": "e248de52-e0ea-4aac-ba65-7941513342dd"
      },
      "execution_count": 25,
      "outputs": [
        {
          "output_type": "stream",
          "name": "stdout",
          "text": [
            "Length of 1st training example:  218\n",
            "Length of 2nd training example:  189\n",
            "Length of 1st test example:  68\n",
            "Length of 2nd test example:  260\n"
          ]
        }
      ]
    },
    {
      "cell_type": "markdown",
      "source": [
        "# Padding the Examples\n",
        "Let’s try to imagine how our neural network might look at this problem. We have a bunch of words as our input features and we want the network to predict, based on the features, if a particular set of features is a negative review or positive review. So, as it trains, it will start to assign some “meaning” to certain words which occur often in certain types of reviews. Maybe a word like “wonderful” will influence the network into thinking that the review is more positive, maybe a word like “terrible” will influence the network into thinking that the review is more negative. So, as it trains, it will assign how much influence and what influence various words in our vocabulary will have on the output.\n",
        "\n",
        "Then, there’d be certain words like “a” or “the” which will seem pretty meaningless. This is because they are just articles and don’t have any inherent meaning at all.\n",
        "\n",
        "For instance, let's check out which number represents 'the' in our data set. It shows that 1 represents 'the'."
      ],
      "metadata": {
        "id": "PVPrvZyRFsxa"
      }
    },
    {
      "cell_type": "code",
      "source": [
        "word_index['the']"
      ],
      "metadata": {
        "colab": {
          "base_uri": "https://localhost:8080/"
        },
        "id": "FXtxzyUtFx1P",
        "outputId": "6f0731ac-689f-4c8f-b992-8562614dd0e7"
      },
      "execution_count": 26,
      "outputs": [
        {
          "output_type": "execute_result",
          "data": {
            "text/plain": [
              "1"
            ]
          },
          "metadata": {},
          "execution_count": 26
        }
      ]
    },
    {
      "cell_type": "markdown",
      "source": [
        "As we mentioned above, each review has different lenght but we need them to be in the same length. To do so, we can use a helper function provided by tensorflow. This helper function will fix each review with the same length, but we need a meaningless word that will not affect our results, such as the.\n",
        "\n",
        "Basically, we will use padding function to fill the empty words with 'the' to make equal each review 256 word long. "
      ],
      "metadata": {
        "id": "VrzJ_XhfR2G6"
      }
    },
    {
      "cell_type": "code",
      "source": [
        "from tensorflow.python.keras.preprocessing.sequence import pad_sequences\n",
        "\n",
        "x_train = pad_sequences(x_train, value = word_index['the'], padding = 'post', maxlen = 256)\n",
        "x_test = pad_sequences(x_test, value = word_index['the'], padding = 'post', maxlen = 256)"
      ],
      "metadata": {
        "id": "irZIJ-0dSrw2"
      },
      "execution_count": 44,
      "outputs": []
    },
    {
      "cell_type": "code",
      "source": [
        "# here is the example how padding works\n",
        "decode(x_train[0])"
      ],
      "metadata": {
        "colab": {
          "base_uri": "https://localhost:8080/",
          "height": 122
        },
        "id": "GZi-AiaZTEeT",
        "outputId": "87bcda58-ce69-40cb-eb6b-2afa64eb6cd8"
      },
      "execution_count": 28,
      "outputs": [
        {
          "output_type": "execute_result",
          "data": {
            "application/vnd.google.colaboratory.intrinsic+json": {
              "type": "string"
            },
            "text/plain": [
              "\"the as you with out themselves powerful lets loves their becomes reaching had journalist of lot from anyone to have after out atmosphere never more room and it so heart shows to years of every never going and help moments or of every chest visual movie except her was several of enough more with is now current film as you of mine potentially unfortunately of you than him that with out themselves her get for was camp of you movie sometimes movie that with scary but and to story wonderful that in seeing in character to of 70s musicians with heart had shadows they of here that with her serious to have does when from why what have critics they is you that isn't one will very to as itself with other and in of seen over landed for anyone of and br show's to whether from than out themselves history he name half some br of and odd was two most of mean for 1 any an boat she he should is thought frog but of script you not while history he heart to real at barrel but when from one bit then have two of script their with her nobody most that with wasn't to with armed acting watch an for with heartfelt film want an the the the the the the the the the the the the the the the the the the the the the the the the the the the the the the the the the the the the the the \""
            ]
          },
          "metadata": {},
          "execution_count": 28
        }
      ]
    },
    {
      "cell_type": "code",
      "source": [
        "# let's check our first two rows in train and test sets again\n",
        "show_lengths()"
      ],
      "metadata": {
        "colab": {
          "base_uri": "https://localhost:8080/"
        },
        "id": "gB8zQq02S1bP",
        "outputId": "bb8265f3-6ced-4926-b26a-814be71dd4f7"
      },
      "execution_count": 29,
      "outputs": [
        {
          "output_type": "stream",
          "name": "stdout",
          "text": [
            "Length of 1st training example:  256\n",
            "Length of 2nd training example:  256\n",
            "Length of 1st test example:  256\n",
            "Length of 2nd test example:  256\n"
          ]
        }
      ]
    },
    {
      "cell_type": "markdown",
      "source": [
        "# Word Embedding\n",
        "An embedding layer will try to find some relation between various words. You have to specify the number of words we are looking to find an embedding for, in this case 10000, and we also need to specify the number of features that we are trying to learn from those words. Then, all the words are represented as these feature vectors. Let’s say we are asking the model to learn 16 features from all the training text examples that we will feed to the model. The embedding layer will learn a 10000 by 16 dimensional Word Embedding where each word has a feature representation of 16 values.\n",
        "\n",
        "We will use word embedding layers below from tensorflow. "
      ],
      "metadata": {
        "id": "zzicW7iQF2Ie"
      }
    },
    {
      "cell_type": "markdown",
      "source": [
        "# Creating and Training the Model\n",
        "\n",
        "This is quite straight-forward. We will use the sequential class from Keras. And we will also import a few layers that we will need. We know, from our previous task, that we will need an Embedding layer (we will use 16 dimension for the feature representations), we will use need a pooling layer which will convert our feature representations of 10,000 by 16 to a 16 dimension vector for each batch then can be then fed into a Dense layer with a rectified linear unit activation. Finally, we have another dense layer with an appropriate activation function to give us a binary classification output for the two classes that we have."
      ],
      "metadata": {
        "id": "3AwvxsDnF7gv"
      }
    },
    {
      "cell_type": "code",
      "source": [
        "from tensorflow.python.keras.models import Sequential\n",
        "from tensorflow.python.keras.layers import Embedding, Dense, GlobalAveragePooling1D"
      ],
      "metadata": {
        "id": "YvnkNas4F-CN"
      },
      "execution_count": 62,
      "outputs": []
    },
    {
      "cell_type": "markdown",
      "source": [
        "__Embedding:__ We will use 10000 words with 16 features. It means we will have a score for 10000 words on 16 features. \n",
        "\n",
        "__GlobalavaragePool1D:__ \n",
        "We used a pooling layer to convert 2 dimensional data to 1 dimensional data before using any dense layers. Put differently, for each feature dimension, it takes average among all time steps. The output thus have shape (batch_size, 1,  features) (if data_format='channels_last'). They just flatten the second (or third if data_format='channels_first') dimension, that is how you get output shape equal to (batch_size, features).\n"
      ],
      "metadata": {
        "id": "7MwsT66eYoJt"
      }
    },
    {
      "cell_type": "code",
      "source": [
        "model = Sequential([\n",
        "    Embedding(10000, 16), # 1st layer\n",
        "    GlobalAveragePooling1D(), # 2nd layer\n",
        "    Dense(16, activation = 'relu'), # 3rd\n",
        "    Dense(1, activation = 'sigmoid') # final layer = since output is 0 and 1, we use sigmoid\n",
        "])\n",
        "\n",
        "model.compile(\n",
        "    optimizer = 'adam',\n",
        "    loss = 'binary_crossentropy',\n",
        "    metrics = ['acc']\n",
        ")\n",
        "\n",
        "model.summary()"
      ],
      "metadata": {
        "colab": {
          "base_uri": "https://localhost:8080/"
        },
        "id": "0O8SWczVXcbZ",
        "outputId": "c39d82f2-9c4c-4988-c2bb-c8ef5832c436"
      },
      "execution_count": 88,
      "outputs": [
        {
          "output_type": "stream",
          "name": "stdout",
          "text": [
            "Model: \"sequential_7\"\n",
            "_________________________________________________________________\n",
            "Layer (type)                 Output Shape              Param #   \n",
            "=================================================================\n",
            "embedding_19 (Embedding)     (None, None, 16)          160000    \n",
            "_________________________________________________________________\n",
            "global_average_pooling1d_13  (None, 16)                0         \n",
            "_________________________________________________________________\n",
            "dense_17 (Dense)             (None, 16)                272       \n",
            "_________________________________________________________________\n",
            "dense_18 (Dense)             (None, 1)                 17        \n",
            "=================================================================\n",
            "Total params: 160,289\n",
            "Trainable params: 160,289\n",
            "Non-trainable params: 0\n",
            "_________________________________________________________________\n"
          ]
        }
      ]
    },
    {
      "cell_type": "code",
      "source": [
        "# instead of regular output, we use helper function from tensorflow named LambdaCallback\n",
        "from tensorflow.python.keras.callbacks import LambdaCallback\n",
        "\n",
        "simple_logging = LambdaCallback(on_epoch_end = lambda e, l: print(e, end='.'))\n",
        "\n",
        "E = 20 # epoch\n",
        "\n",
        "h = model.fit(\n",
        "    x_train, y_train,\n",
        "    validation_split = 0.2,\n",
        "    epochs = E,\n",
        "    callbacks = [simple_logging],\n",
        "    verbose = False\n",
        ")"
      ],
      "metadata": {
        "colab": {
          "base_uri": "https://localhost:8080/"
        },
        "id": "VmPIi58QXxFZ",
        "outputId": "93390966-5b29-4000-92b0-527dfd23b41a"
      },
      "execution_count": 89,
      "outputs": [
        {
          "output_type": "stream",
          "name": "stdout",
          "text": [
            "0.1.2.3.4.5.6.7.8.9.10.11.12.13.14.15.16.17.18.19."
          ]
        }
      ]
    },
    {
      "cell_type": "markdown",
      "source": [
        "# Prediction and Evaluation\n",
        "\n",
        "We will display the accuracy of our model during training for both the training and the validation set that we split from the training set. Remember that we split 20% of the training set into a validation set when we trained the model. We will also take a look at a prediction and its corresponding review in text."
      ],
      "metadata": {
        "id": "sMpvrqS6GBmY"
      }
    },
    {
      "cell_type": "code",
      "source": [
        "import matplotlib.pyplot as plt\n",
        "%matplotlib inline \n",
        "\n",
        "plt.plot(range(E), h.history['acc'], label= 'Training')\n",
        "plt.plot(range(E), h.history['val_acc'], label= 'Validation')\n",
        "plt.legend()\n",
        "plt.show()\n"
      ],
      "metadata": {
        "id": "QrgfFEDhdcau",
        "colab": {
          "base_uri": "https://localhost:8080/",
          "height": 265
        },
        "outputId": "467e1ede-c188-4da2-fe99-1955e78757e3"
      },
      "execution_count": 90,
      "outputs": [
        {
          "output_type": "display_data",
          "data": {
            "image/png": "[encoded data removed]",
            "text/plain": [
              "<Figure size 432x288 with 1 Axes>"
            ]
          },
          "metadata": {
            "needs_background": "light"
          }
        }
      ]
    },
    {
      "cell_type": "markdown",
      "source": [
        "This model implied an overfit issue. While our training set is pretty good at predicting the outcome, the validation scores even diminishes."
      ],
      "metadata": {
        "id": "PLFFu8ZHfY4p"
      }
    },
    {
      "cell_type": "code",
      "source": [
        "# let's calculate the result in our test sets\n",
        "loss, acc = model.evaluate(x_test, y_test)\n",
        "print('Test set accuracy = ', acc * 100)"
      ],
      "metadata": {
        "colab": {
          "base_uri": "https://localhost:8080/"
        },
        "id": "GJfJ-xmbfsDt",
        "outputId": "fc25c190-cd0c-4780-e784-e066715a623c"
      },
      "execution_count": 91,
      "outputs": [
        {
          "output_type": "stream",
          "name": "stdout",
          "text": [
            "782/782 [==============================] - 1s 2ms/step - loss: 0.8271 - acc: 0.8440\n",
            "Test set accuracy =  84.3999981880188\n"
          ]
        }
      ]
    },
    {
      "cell_type": "markdown",
      "source": [
        "# Model with Regularization \n",
        " As we mentioned above, our model overfits. So, we can use different methods to reduce overfitting. First, we will test l2 regularization from the tensorflow. \n",
        " \n",
        "Besides, we will also add another layer to our model to improve the model. If it improves, we can retain it.  It is also noticed that the accuracy does not improve with more epoch, for that reason, we can decrease the epoch. \n",
        "\n",
        "\n"
      ],
      "metadata": {
        "id": "kS03GHxar4W_"
      }
    },
    {
      "cell_type": "code",
      "source": [
        "# l2 regularization\n",
        "from tensorflow.keras import regularizers\n",
        "\n",
        "\n",
        "l2 = Sequential([\n",
        "    Embedding(10000, 16), # 1st layer\n",
        "    GlobalAveragePooling1D(), # 2nd layer\n",
        "    Dense(16, activation = 'relu', kernel_regularizer=regularizers.l2(0.001)),\n",
        "    Dense(16, activation = 'relu', kernel_regularizer=regularizers.l2(0.001)),\n",
        "    Dense(1, activation = 'sigmoid', kernel_regularizer=regularizers.l2(0.001)) \n",
        "])\n",
        "\n"
      ],
      "metadata": {
        "id": "FrGAxoocKEyl"
      },
      "execution_count": 71,
      "outputs": []
    },
    {
      "cell_type": "code",
      "source": [
        "from tensorflow.keras import optimizers\n",
        "rmsprop = optimizers.RMSprop(learning_rate = .0001)\n",
        "\n",
        "l2.compile(\n",
        "    optimizer = 'rmsprop',\n",
        "    loss = 'binary_crossentropy',\n",
        "    metrics = ['acc']\n",
        ")\n",
        "\n",
        "l2.summary()"
      ],
      "metadata": {
        "colab": {
          "base_uri": "https://localhost:8080/"
        },
        "id": "zW27FZ2AMSa1",
        "outputId": "674ce423-f021-4b38-8656-78657dd59527"
      },
      "execution_count": 78,
      "outputs": [
        {
          "output_type": "stream",
          "name": "stdout",
          "text": [
            "Model: \"sequential_5\"\n",
            "_________________________________________________________________\n",
            "Layer (type)                 Output Shape              Param #   \n",
            "=================================================================\n",
            "embedding_17 (Embedding)     (None, None, 16)          160000    \n",
            "_________________________________________________________________\n",
            "global_average_pooling1d_11  (None, 16)                0         \n",
            "_________________________________________________________________\n",
            "dense_11 (Dense)             (None, 16)                272       \n",
            "_________________________________________________________________\n",
            "module_wrapper (ModuleWrappe (None, 16)                0         \n",
            "_________________________________________________________________\n",
            "dense_12 (Dense)             (None, 16)                272       \n",
            "_________________________________________________________________\n",
            "module_wrapper_1 (ModuleWrap (None, 16)                0         \n",
            "_________________________________________________________________\n",
            "dense_13 (Dense)             (None, 1)                 17        \n",
            "=================================================================\n",
            "Total params: 160,561\n",
            "Trainable params: 160,561\n",
            "Non-trainable params: 0\n",
            "_________________________________________________________________\n"
          ]
        }
      ]
    },
    {
      "cell_type": "code",
      "source": [
        "# instead of regular output, we use helper function from tensorflow named LambdaCallback\n",
        "from tensorflow.python.keras.callbacks import LambdaCallback\n",
        "\n",
        "simple_logging = LambdaCallback(on_epoch_end = lambda e, l: print(e, end='.'))\n",
        "\n",
        "E = 10 # epoch\n",
        "\n",
        "h2 = l2.fit(\n",
        "    x_train, y_train,\n",
        "    validation_split = 0.2,\n",
        "    epochs = E,\n",
        "    callbacks = [simple_logging],\n",
        "    verbose = False\n",
        ")"
      ],
      "metadata": {
        "colab": {
          "base_uri": "https://localhost:8080/"
        },
        "id": "bMTPREoSLDgW",
        "outputId": "2db3aa23-807d-4ea9-f155-0c410dca5952"
      },
      "execution_count": 73,
      "outputs": [
        {
          "output_type": "stream",
          "name": "stdout",
          "text": [
            "0.1.2.3.4.5.6.7.8.9."
          ]
        }
      ]
    },
    {
      "cell_type": "code",
      "source": [
        "# let's calculate the result in our test sets\n",
        "loss, acc = l2.evaluate(x_test, y_test)\n",
        "print('Test set accuracy = ', acc * 100)"
      ],
      "metadata": {
        "colab": {
          "base_uri": "https://localhost:8080/"
        },
        "id": "T1nzN6loM2TE",
        "outputId": "1c5ff3f3-c385-404d-b636-db1ab39caff7"
      },
      "execution_count": 74,
      "outputs": [
        {
          "output_type": "stream",
          "name": "stdout",
          "text": [
            "782/782 [==============================] - 2s 2ms/step - loss: 0.3456 - acc: 0.8789\n",
            "Test set accuracy =  87.88800239562988\n"
          ]
        }
      ]
    },
    {
      "cell_type": "code",
      "source": [
        "import matplotlib.pyplot as plt\n",
        "%matplotlib inline \n",
        "\n",
        "plt.plot(range(E), h2.history['acc'], label= 'Training')\n",
        "plt.plot(range(E), h2.history['val_acc'], label= 'Validation')\n",
        "plt.legend()\n",
        "plt.show()\n"
      ],
      "metadata": {
        "colab": {
          "base_uri": "https://localhost:8080/",
          "height": 269
        },
        "id": "0j_unNpAMmBP",
        "outputId": "c6820fdc-06b1-4c0e-e9a3-f11a168309c5"
      },
      "execution_count": 75,
      "outputs": [
        {
          "output_type": "display_data",
          "data": {
            "image/png": "[encoded data removed]",
            "text/plain": [
              "<Figure size 432x288 with 1 Axes>"
            ]
          },
          "metadata": {
            "needs_background": "light"
          }
        }
      ]
    },
    {
      "cell_type": "markdown",
      "source": [
        "With this model, we increase the validation accuracy as well as decrease the gap between train and test sets. Another important point is that the accuracy did not improve with more epoch but we can retain epoch 10 for the convenience. "
      ],
      "metadata": {
        "id": "DSlB1_GpyoY_"
      }
    },
    {
      "cell_type": "markdown",
      "source": [
        "# Model with Dropout \n",
        "\n",
        "We can also test dropout model to see whether our model improve or not. We can retain the model from the previous one, just add droput parameters. \n"
      ],
      "metadata": {
        "id": "TYH2jKJsOOQ0"
      }
    },
    {
      "cell_type": "code",
      "source": [
        "# dropout model\n",
        "\n",
        "drop_model = Sequential([\n",
        "    Embedding(10000, 16), # 1st layer\n",
        "    GlobalAveragePooling1D(), # 2nd layer\n",
        "    Dense(16, activation = 'relu'),\n",
        "    Dropout(0.5),\n",
        "    Dense(16, activation = 'relu'),\n",
        "    Dropout(0.5),\n",
        "    Dense(1, activation = 'sigmoid', kernel_regularizer=regularizers.l2(0.001)) \n",
        "])"
      ],
      "metadata": {
        "id": "urhNc-hcOTo0"
      },
      "execution_count": 80,
      "outputs": []
    },
    {
      "cell_type": "code",
      "source": [
        "from tensorflow.keras import optimizers\n",
        "rmsprop = optimizers.RMSprop(learning_rate = .0001)\n",
        "\n",
        "drop_model.compile(\n",
        "    optimizer = 'rmsprop',\n",
        "    loss = 'binary_crossentropy',\n",
        "    metrics = ['acc']\n",
        ")\n",
        "\n",
        "drop_model.summary()\n"
      ],
      "metadata": {
        "colab": {
          "base_uri": "https://localhost:8080/"
        },
        "id": "ECHyF-y9PABc",
        "outputId": "d662b3a0-6d12-458d-a710-9bf14f9d39cc"
      },
      "execution_count": 81,
      "outputs": [
        {
          "output_type": "stream",
          "name": "stdout",
          "text": [
            "Model: \"sequential_6\"\n",
            "_________________________________________________________________\n",
            "Layer (type)                 Output Shape              Param #   \n",
            "=================================================================\n",
            "embedding_18 (Embedding)     (None, None, 16)          160000    \n",
            "_________________________________________________________________\n",
            "global_average_pooling1d_12  (None, 16)                0         \n",
            "_________________________________________________________________\n",
            "dense_14 (Dense)             (None, 16)                272       \n",
            "_________________________________________________________________\n",
            "module_wrapper_2 (ModuleWrap (None, 16)                0         \n",
            "_________________________________________________________________\n",
            "dense_15 (Dense)             (None, 16)                272       \n",
            "_________________________________________________________________\n",
            "module_wrapper_3 (ModuleWrap (None, 16)                0         \n",
            "_________________________________________________________________\n",
            "dense_16 (Dense)             (None, 1)                 17        \n",
            "=================================================================\n",
            "Total params: 160,561\n",
            "Trainable params: 160,561\n",
            "Non-trainable params: 0\n",
            "_________________________________________________________________\n"
          ]
        }
      ]
    },
    {
      "cell_type": "code",
      "source": [
        "# instead of regular output, we use helper function from tensorflow named LambdaCallback\n",
        "from tensorflow.python.keras.callbacks import LambdaCallback\n",
        "\n",
        "simple_logging = LambdaCallback(on_epoch_end = lambda e, l: print(e, end='.'))\n",
        "\n",
        "E = 10 # epoch\n",
        "\n",
        "h3 = drop_model.fit(\n",
        "    x_train, y_train,\n",
        "    validation_split = 0.2,\n",
        "    epochs = E,\n",
        "    callbacks = [simple_logging],\n",
        "    verbose = False\n",
        ")"
      ],
      "metadata": {
        "colab": {
          "base_uri": "https://localhost:8080/"
        },
        "id": "R8VYeRddPg4O",
        "outputId": "f1b70ca2-c616-457b-ee4d-026ecd847d52"
      },
      "execution_count": 83,
      "outputs": [
        {
          "output_type": "stream",
          "name": "stdout",
          "text": [
            "0.1.2.3.4.5.6.7.8.9."
          ]
        }
      ]
    },
    {
      "cell_type": "code",
      "source": [
        "# let's calculate the result in our test sets\n",
        "loss, acc = drop_model.evaluate(x_test, y_test)\n",
        "print('Test set accuracy = ', acc * 100)"
      ],
      "metadata": {
        "colab": {
          "base_uri": "https://localhost:8080/"
        },
        "id": "5cmySqwkPnct",
        "outputId": "fc13d323-fdf8-4d15-a065-55b9f814a039"
      },
      "execution_count": 84,
      "outputs": [
        {
          "output_type": "stream",
          "name": "stdout",
          "text": [
            "782/782 [==============================] - 1s 2ms/step - loss: 0.3803 - acc: 0.8701\n",
            "Test set accuracy =  87.00799942016602\n"
          ]
        }
      ]
    },
    {
      "cell_type": "code",
      "source": [
        "import matplotlib.pyplot as plt\n",
        "%matplotlib inline \n",
        "\n",
        "plt.plot(range(E), h3.history['acc'], label= 'Training')\n",
        "plt.plot(range(E), h3.history['val_acc'], label= 'Validation')\n",
        "plt.legend()\n",
        "plt.show()\n"
      ],
      "metadata": {
        "colab": {
          "base_uri": "https://localhost:8080/",
          "height": 265
        },
        "id": "_bCj8rWgPsfp",
        "outputId": "7d8e43d0-198d-4cf9-c654-9e184f033adc"
      },
      "execution_count": 85,
      "outputs": [
        {
          "output_type": "display_data",
          "data": {
            "image/png": "[encoded data removed]",
            "text/plain": [
              "<Figure size 432x288 with 1 Axes>"
            ]
          },
          "metadata": {
            "needs_background": "light"
          }
        }
      ]
    },
    {
      "cell_type": "markdown",
      "source": [
        "As seen from the graph, the validation accuracy increases compared to base model but the gap between train and test accuracy is higher than before. So, it implies that overfitting still exists."
      ],
      "metadata": {
        "id": "tfDms5iR0CGW"
      }
    },
    {
      "cell_type": "markdown",
      "source": [
        "### Final check"
      ],
      "metadata": {
        "id": "ZhrmKHobtyO6"
      }
    },
    {
      "cell_type": "code",
      "source": [
        "import numpy as np\n",
        "\n",
        "p = model.predict(np.expand_dims(x_test[0], axis= 0))\n",
        "print(class_names[np.argmax(p[0])])"
      ],
      "metadata": {
        "colab": {
          "base_uri": "https://localhost:8080/"
        },
        "id": "apn54WifgKzu",
        "outputId": "04c39b75-46bd-408b-84c5-8ddf28c12115"
      },
      "execution_count": 86,
      "outputs": [
        {
          "output_type": "stream",
          "name": "stdout",
          "text": [
            "Negative\n"
          ]
        }
      ]
    },
    {
      "cell_type": "code",
      "source": [
        "decode(x_test[0])"
      ],
      "metadata": {
        "colab": {
          "base_uri": "https://localhost:8080/",
          "height": 122
        },
        "id": "_8EqNySaiTCG",
        "outputId": "ace6af90-9b25-4726-8f93-04c1a3418469"
      },
      "execution_count": 87,
      "outputs": [
        {
          "output_type": "execute_result",
          "data": {
            "application/vnd.google.colaboratory.intrinsic+json": {
              "type": "string"
            },
            "text/plain": [
              "\"the wonder own as by is sequence i i and and to of hollywood br of down shouting getting boring of ever it sadly sadly sadly i i was then does don't close faint after one carry as by are be favourites all family turn in does as three part in another some to be probably with world and her an have faint beginning own as is sequence the the the the the the the the the the the the the the the the the the the the the the the the the the the the the the the the the the the the the the the the the the the the the the the the the the the the the the the the the the the the the the the the the the the the the the the the the the the the the the the the the the the the the the the the the the the the the the the the the the the the the the the the the the the the the the the the the the the the the the the the the the the the the the the the the the the the the the the the the the the the the the the the the the the the the the the the the the the the the the the the the the the the the the the the the the the the the the the the the the the the the the the the the the the the \""
            ]
          },
          "metadata": {},
          "execution_count": 87
        }
      ]
    },
    {
      "cell_type": "markdown",
      "source": [
        "# Summary\n",
        "\n",
        "- In this demonstration, we use preprocessed imdb data set from tensorflow. The words were converted and each unique word was represented with unique number. \n",
        "- To show the content of the reviews, we also applied decoding technique and re-create some of the review example. \n",
        "- We also explain how embedding works in RNN analysis. \n",
        "- We also applied padding techique to fix the review lenght. \n",
        "- We then created a base model and test the accuracy.\n",
        "- When we identified that our model has overfitting problem, we then applied some regularization techniques. \n",
        "- The first model was l2 regulariation and it improved the test accuracy as well as reduced the gap between train and test sets. \n",
        "- We also test the dropout regularization method, although we increase the test accuracy, the gap between train and test sets were too wide. \n",
        "- We conclude that l2 regularization works well with this data set. "
      ],
      "metadata": {
        "id": "afuaom9C0pRP"
      }
    }
  ]
}